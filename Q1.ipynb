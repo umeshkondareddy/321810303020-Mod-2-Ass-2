{
 "cells": [
  {
   "cell_type": "code",
   "execution_count": 2,
   "metadata": {},
   "outputs": [
    {
     "name": "stdout",
     "output_type": "stream",
     "text": [
      "enter first num:2\n",
      "enter second num:8\n",
      "enter third num:6\n",
      "max is: 8\n"
     ]
    }
   ],
   "source": [
    "def Max(a, b, c):  \n",
    "    if (a >= b) and (a >= c): \n",
    "        max=a  \n",
    "    elif (b >= a) and (b >= c): \n",
    "        max=b \n",
    "    else: \n",
    "        max=c \n",
    "    return max \n",
    "a=int(input(\"enter first num:\"))\n",
    "b=int(input(\"enter second num:\"))\n",
    "c=int(input(\"enter third num:\"))\n",
    "print(\"max is:\",Max(a, b, c))"
   ]
  }
 ],
 "metadata": {
  "kernelspec": {
   "display_name": "Python 3",
   "language": "python",
   "name": "python3"
  },
  "language_info": {
   "codemirror_mode": {
    "name": "ipython",
    "version": 3
   },
   "file_extension": ".py",
   "mimetype": "text/x-python",
   "name": "python",
   "nbconvert_exporter": "python",
   "pygments_lexer": "ipython3",
   "version": "3.7.6"
  }
 },
 "nbformat": 4,
 "nbformat_minor": 4
}
