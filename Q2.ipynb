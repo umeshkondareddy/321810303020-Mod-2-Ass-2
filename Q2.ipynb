{
 "cells": [
  {
   "cell_type": "code",
   "execution_count": 5,
   "metadata": {},
   "outputs": [
    {
     "name": "stdout",
     "output_type": "stream",
     "text": [
      "enter a string :hockey\n",
      "The original string  is : hockey\n",
      "after reversing string is : yekcoh\n"
     ]
    }
   ],
   "source": [
    "def reverse(str): \n",
    "  s = \"\" \n",
    "  for i in str: \n",
    "    s = i + s\n",
    "  return s\n",
    "str=input(\"enter a string :\")\n",
    "print(\"The original string  is :\",str) \n",
    "print(\"after reversing string is :\",reverse(str))"
   ]
  }
 ],
 "metadata": {
  "kernelspec": {
   "display_name": "Python 3",
   "language": "python",
   "name": "python3"
  },
  "language_info": {
   "codemirror_mode": {
    "name": "ipython",
    "version": 3
   },
   "file_extension": ".py",
   "mimetype": "text/x-python",
   "name": "python",
   "nbconvert_exporter": "python",
   "pygments_lexer": "ipython3",
   "version": "3.7.6"
  }
 },
 "nbformat": 4,
 "nbformat_minor": 4
}
