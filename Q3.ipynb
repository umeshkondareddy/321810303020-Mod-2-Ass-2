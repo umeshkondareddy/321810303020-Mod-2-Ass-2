{
 "cells": [
  {
   "cell_type": "code",
   "execution_count": 47,
   "metadata": {},
   "outputs": [
    {
     "name": "stdout",
     "output_type": "stream",
     "text": [
      "enter a number:2\n",
      "2 is  a prime number\n"
     ]
    }
   ],
   "source": [
    "def prime(b):\n",
    "    if (b <= 1):\n",
    "        print(b,\"is not a prime number\")\n",
    "    elif (b>2):   \n",
    "        for i in range(2, b): \n",
    "            if (b % i) == 0: \n",
    "                print(b,\"is not a prime number\")\n",
    "                break\n",
    "            else:\n",
    "                print(b,\"is a prime number\")\n",
    "                break\n",
    "    else: \n",
    "        print(b,\"is  a prime number\")\n",
    "b=int(input(\"enter a number:\"))\n",
    "prime(b)"
   ]
  },
  {
   "cell_type": "code",
   "execution_count": null,
   "metadata": {},
   "outputs": [],
   "source": []
  }
 ],
 "metadata": {
  "kernelspec": {
   "display_name": "Python 3",
   "language": "python",
   "name": "python3"
  },
  "language_info": {
   "codemirror_mode": {
    "name": "ipython",
    "version": 3
   },
   "file_extension": ".py",
   "mimetype": "text/x-python",
   "name": "python",
   "nbconvert_exporter": "python",
   "pygments_lexer": "ipython3",
   "version": "3.7.6"
  }
 },
 "nbformat": 4,
 "nbformat_minor": 4
}
