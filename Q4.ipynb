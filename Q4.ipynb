{
 "cells": [
  {
   "cell_type": "code",
   "execution_count": 19,
   "metadata": {},
   "outputs": [
    {
     "name": "stdout",
     "output_type": "stream",
     "text": [
      "enter a number12321\n",
      "12321 is a palindrome\n",
      "there is no error\n",
      "finally block is always printed\n"
     ]
    }
   ],
   "source": [
    "def palin(num):\n",
    "    try:\n",
    "        temp=num\n",
    "        rev=0\n",
    "        while(num>0):\n",
    "            dig=num%10\n",
    "            rev=rev*10+dig\n",
    "            num=num//10\n",
    "        if(temp==rev):\n",
    "            print(rev,\"is a palindrome\")\n",
    "        else:\n",
    "            num/0\n",
    "    except ZeroDivisionError:\n",
    "        print(\"Not a palindrome\")\n",
    "    else:\n",
    "        print(\"there is no error\")\n",
    "    finally:\n",
    "        print(\"finally block is always printed\")\n",
    "num=int(input(\"enter a number\"))\n",
    "palin(num)"
   ]
  }
 ],
 "metadata": {
  "kernelspec": {
   "display_name": "Python 3",
   "language": "python",
   "name": "python3"
  },
  "language_info": {
   "codemirror_mode": {
    "name": "ipython",
    "version": 3
   },
   "file_extension": ".py",
   "mimetype": "text/x-python",
   "name": "python",
   "nbconvert_exporter": "python",
   "pygments_lexer": "ipython3",
   "version": "3.7.6"
  }
 },
 "nbformat": 4,
 "nbformat_minor": 4
}
